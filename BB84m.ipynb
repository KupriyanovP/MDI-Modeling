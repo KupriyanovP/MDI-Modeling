{
 "cells": [
  {
   "cell_type": "code",
   "execution_count": 50,
   "metadata": {},
   "outputs": [
    {
     "name": "stdout",
     "output_type": "stream",
     "text": [
      "25938 843 0.03250057830210502\n"
     ]
    }
   ],
   "source": [
    "import numpy as np\n",
    "import math\n",
    "\n",
    "flag=1 # живой доф\n",
    "death_time=1000 #мертвое время в периодах\n",
    "p_dark_count=0.0003\n",
    "ef_det=0.1 # эффективность детектора в случае прилета 1 фотона\n",
    "t=0.4 #коэффициент пропускания\n",
    "p_opt=0.01 # неточность в приготовлении состояний \n",
    "mu=0.3 #матожидание фотонов в импульсе\n",
    "lenth=28000000 # длина последовательности\n",
    "s=0 #счетчик мертвого времени\n",
    "\n",
    "\n",
    "\n",
    "Alice=np.random.randint(0, 2, lenth)\n",
    "Bob=[]\n",
    "\n",
    "p_detection=0\n",
    "for m in range(1,5):\n",
    "    p_detection+=(math.exp(-mu*t)*((mu*t)**m)/math.factorial(m)) * (1-(1-ef_det)**m)\n",
    "    \n",
    "    \n",
    "for i in Alice:\n",
    "    \n",
    "    if flag:\n",
    "        dark_status_list=[1,2,3,4]\n",
    "        dark_status=np.random.choice(dark_status_list, p=[1-2*p_dark_count, p_dark_count,  p_dark_count, 0]) # без уччета двойного темнового\n",
    "        if dark_status==2:   # не рассматриввается случай темнового и нормального срабатывания\n",
    "            flag=0 #мертвый доф\n",
    "            Bob.append(0)\n",
    "            s=0\n",
    "        elif dark_status==3:\n",
    "            flag=0 \n",
    "            s=0\n",
    "            Bob.append(1)\n",
    "            \n",
    "        elif dark_status==1:   #нет темновых отсчетов\n",
    "            l=[0,1]\n",
    "            p_PBS=np.random.choice(l, p=[1-p_opt, p_opt]) \n",
    "            \n",
    "            if p_PBS==0: #импульс пошел в правильное\n",
    "                \n",
    "                detection=np.random.choice([0,1], p=[1-p_detection,p_detection])\n",
    "                if detection:  # произошло детектирование в правильном плече\n",
    "                    Bob.append(i)\n",
    "                    flag=0\n",
    "                    \n",
    "                else: \n",
    "                    Bob.append(3)# оба детектора не сработали \n",
    "            else: #импульс пошел в неправильное\n",
    "                detection=np.random.choice([0,1], p=[1-p_detection,p_detection])\n",
    "                if detection:  # произошло детектирование в неправильном плече\n",
    "                    Bob.append(i^1)\n",
    "                    flag=0\n",
    "                else: \n",
    "                    Bob.append(3)# оба детектора не сработали\n",
    "                \n",
    "        \n",
    "    else:\n",
    "        s+=1  #счетчик мертвого времени\n",
    "        Bob.append(7) # детектор отдыхает\n",
    "        if s==death_time:\n",
    "            flag=1\n",
    "            s=0\n",
    "            \n",
    "\n",
    "\n",
    "\n",
    "N=0\n",
    "Error=0\n",
    "\n",
    "for i in range(lenth):\n",
    "    if ((Bob[i]==1)or(Bob[i]==0)):\n",
    "        N+=1\n",
    "        if (Alice[i]!=Bob[i]):\n",
    "            Error+=1\n",
    "QBER=Error/N\n",
    "print(N,Error,QBER)"
   ]
  },
  {
   "cell_type": "code",
   "execution_count": null,
   "metadata": {},
   "outputs": [],
   "source": []
  },
  {
   "cell_type": "code",
   "execution_count": null,
   "metadata": {},
   "outputs": [],
   "source": []
  }
 ],
 "metadata": {
  "kernelspec": {
   "display_name": "Python 3",
   "language": "python",
   "name": "python3"
  },
  "language_info": {
   "codemirror_mode": {
    "name": "ipython",
    "version": 3
   },
   "file_extension": ".py",
   "mimetype": "text/x-python",
   "name": "python",
   "nbconvert_exporter": "python",
   "pygments_lexer": "ipython3",
   "version": "3.7.3"
  }
 },
 "nbformat": 4,
 "nbformat_minor": 2
}
